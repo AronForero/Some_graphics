{
 "cells": [
  {
   "cell_type": "code",
   "execution_count": 1,
   "metadata": {},
   "outputs": [],
   "source": [
    "import pandas as pd\n",
    "import numpy as np\n",
    "import matplotlib.pyplot as plt\n",
    "import seaborn as sns\n",
    "from sklearn import preprocessing\n",
    "%matplotlib inline"
   ]
  },
  {
   "cell_type": "markdown",
   "metadata": {},
   "source": [
    "### SUS Sin acompañamiento"
   ]
  },
  {
   "cell_type": "code",
   "execution_count": 2,
   "metadata": {},
   "outputs": [
    {
     "data": {
      "text/html": [
       "<div>\n",
       "<style scoped>\n",
       "    .dataframe tbody tr th:only-of-type {\n",
       "        vertical-align: middle;\n",
       "    }\n",
       "\n",
       "    .dataframe tbody tr th {\n",
       "        vertical-align: top;\n",
       "    }\n",
       "\n",
       "    .dataframe thead th {\n",
       "        text-align: right;\n",
       "    }\n",
       "</style>\n",
       "<table border=\"1\" class=\"dataframe\">\n",
       "  <thead>\n",
       "    <tr style=\"text-align: right;\">\n",
       "      <th></th>\n",
       "      <th>A_9</th>\n",
       "      <th>A_10</th>\n",
       "      <th>A_11</th>\n",
       "      <th>A_12</th>\n",
       "      <th>A_13</th>\n",
       "      <th>A_14</th>\n",
       "      <th>A_15</th>\n",
       "    </tr>\n",
       "  </thead>\n",
       "  <tbody>\n",
       "    <tr>\n",
       "      <th>0</th>\n",
       "      <td>7</td>\n",
       "      <td>8</td>\n",
       "      <td>9</td>\n",
       "      <td>0</td>\n",
       "      <td>8</td>\n",
       "      <td>9</td>\n",
       "      <td>6</td>\n",
       "    </tr>\n",
       "    <tr>\n",
       "      <th>1</th>\n",
       "      <td>2</td>\n",
       "      <td>8</td>\n",
       "      <td>7</td>\n",
       "      <td>0</td>\n",
       "      <td>8</td>\n",
       "      <td>9</td>\n",
       "      <td>3</td>\n",
       "    </tr>\n",
       "    <tr>\n",
       "      <th>2</th>\n",
       "      <td>9</td>\n",
       "      <td>9</td>\n",
       "      <td>1</td>\n",
       "      <td>7</td>\n",
       "      <td>9</td>\n",
       "      <td>9</td>\n",
       "      <td>5</td>\n",
       "    </tr>\n",
       "    <tr>\n",
       "      <th>3</th>\n",
       "      <td>3</td>\n",
       "      <td>8</td>\n",
       "      <td>1</td>\n",
       "      <td>3</td>\n",
       "      <td>6</td>\n",
       "      <td>8</td>\n",
       "      <td>2</td>\n",
       "    </tr>\n",
       "    <tr>\n",
       "      <th>4</th>\n",
       "      <td>5</td>\n",
       "      <td>9</td>\n",
       "      <td>1</td>\n",
       "      <td>6</td>\n",
       "      <td>7</td>\n",
       "      <td>8</td>\n",
       "      <td>2</td>\n",
       "    </tr>\n",
       "  </tbody>\n",
       "</table>\n",
       "</div>"
      ],
      "text/plain": [
       "   A_9  A_10  A_11  A_12  A_13  A_14  A_15\n",
       "0    7     8     9     0     8     9     6\n",
       "1    2     8     7     0     8     9     3\n",
       "2    9     9     1     7     9     9     5\n",
       "3    3     8     1     3     6     8     2\n",
       "4    5     9     1     6     7     8     2"
      ]
     },
     "execution_count": 2,
     "metadata": {},
     "output_type": "execute_result"
    }
   ],
   "source": [
    "sus_sin_apoyo = pd.read_csv(\"Sus_sin-apoyo.csv\", delimiter=';')\n",
    "sus_sin_apoyo"
   ]
  },
  {
   "cell_type": "code",
   "execution_count": 10,
   "metadata": {
    "scrolled": true
   },
   "outputs": [
    {
     "data": {
      "text/plain": [
       "array([[7],\n",
       "       [8],\n",
       "       [9],\n",
       "       [0],\n",
       "       [8],\n",
       "       [9],\n",
       "       [6],\n",
       "       [2],\n",
       "       [8],\n",
       "       [7],\n",
       "       [0],\n",
       "       [8],\n",
       "       [9],\n",
       "       [3],\n",
       "       [9],\n",
       "       [9],\n",
       "       [1],\n",
       "       [7],\n",
       "       [9],\n",
       "       [9],\n",
       "       [5],\n",
       "       [3],\n",
       "       [8],\n",
       "       [1],\n",
       "       [3],\n",
       "       [6],\n",
       "       [8],\n",
       "       [2],\n",
       "       [5],\n",
       "       [9],\n",
       "       [1],\n",
       "       [6],\n",
       "       [7],\n",
       "       [8],\n",
       "       [2]])"
      ]
     },
     "execution_count": 10,
     "metadata": {},
     "output_type": "execute_result"
    }
   ],
   "source": [
    "tmp = sus_sin_apoyo.copy()\n",
    "tmp = tmp.values.flatten().reshape(-1,1)\n",
    "tmp"
   ]
  },
  {
   "cell_type": "code",
   "execution_count": 19,
   "metadata": {
    "scrolled": true
   },
   "outputs": [],
   "source": [
    "scaler = preprocessing.MinMaxScaler()\n",
    "scaled_df_sin = scaler.fit_transform(tmp)"
   ]
  },
  {
   "cell_type": "code",
   "execution_count": 20,
   "metadata": {
    "scrolled": true
   },
   "outputs": [
    {
     "data": {
      "text/plain": [
       "array([[0.77777778],\n",
       "       [0.88888889],\n",
       "       [1.        ],\n",
       "       [0.        ],\n",
       "       [0.88888889],\n",
       "       [1.        ],\n",
       "       [0.66666667],\n",
       "       [0.22222222],\n",
       "       [0.88888889],\n",
       "       [0.77777778],\n",
       "       [0.        ],\n",
       "       [0.88888889],\n",
       "       [1.        ],\n",
       "       [0.33333333],\n",
       "       [1.        ],\n",
       "       [1.        ],\n",
       "       [0.11111111],\n",
       "       [0.77777778],\n",
       "       [1.        ],\n",
       "       [1.        ],\n",
       "       [0.55555556],\n",
       "       [0.33333333],\n",
       "       [0.88888889],\n",
       "       [0.11111111],\n",
       "       [0.33333333],\n",
       "       [0.66666667],\n",
       "       [0.88888889],\n",
       "       [0.22222222],\n",
       "       [0.55555556],\n",
       "       [1.        ],\n",
       "       [0.11111111],\n",
       "       [0.66666667],\n",
       "       [0.77777778],\n",
       "       [0.88888889],\n",
       "       [0.22222222]])"
      ]
     },
     "execution_count": 20,
     "metadata": {},
     "output_type": "execute_result"
    }
   ],
   "source": [
    "scaled_df_sin"
   ]
  },
  {
   "cell_type": "code",
   "execution_count": 18,
   "metadata": {},
   "outputs": [
    {
     "data": {
      "image/png": "[encoded data removed]",
      "text/plain": [
       "<Figure size 504x576 with 1 Axes>"
      ]
     },
     "metadata": {
      "needs_background": "light"
     },
     "output_type": "display_data"
    }
   ],
   "source": [
    "# f, axes = plt.subplots(1, 2, figsize=(15, 8))\n",
    "# f.suptitle('Análisis de Frecuencia para simulación de perforación sin acompañamiento', fontsize=16, y=0.065)\n",
    "f = plt.figure(figsize=(7,8))\n",
    "# sns.distplot(scaled_df, bins=10, axlabel='Calificacion', hist=False, kde=True, ax=axes[0])\n",
    "# axes[0].set(xlabel='Calificación', ylabel='Densidad')\n",
    "\n",
    "sns.distplot(scaled_df, bins=10, hist=True, kde=False)\n",
    "plt.xlabel('Calificaión')\n",
    "# axes[1].set(xlabel='Calificación', ylabel='Numero de Apariciones')\n",
    "\n",
    "plt.xticks(np.linspace(0,1,10), ['0', '1', '2', '3', '4', '5', '6', '7', '8', '9']);\n",
    "plt.yticks(np.linspace(1,20,20), range(2,20))\n",
    "#plt.ylim(0, 20)\n",
    "#plt.xlim(-0.01,0.6)\n",
    "plt.savefig('figure.png')"
   ]
  },
  {
   "cell_type": "markdown",
   "metadata": {},
   "source": [
    "____"
   ]
  },
  {
   "cell_type": "markdown",
   "metadata": {},
   "source": [
    "____"
   ]
  },
  {
   "cell_type": "markdown",
   "metadata": {},
   "source": [
    "____"
   ]
  },
  {
   "cell_type": "markdown",
   "metadata": {},
   "source": [
    "### SUS con acompañamiento"
   ]
  },
  {
   "cell_type": "code",
   "execution_count": 21,
   "metadata": {},
   "outputs": [
    {
     "data": {
      "text/html": [
       "<div>\n",
       "<style scoped>\n",
       "    .dataframe tbody tr th:only-of-type {\n",
       "        vertical-align: middle;\n",
       "    }\n",
       "\n",
       "    .dataframe tbody tr th {\n",
       "        vertical-align: top;\n",
       "    }\n",
       "\n",
       "    .dataframe thead th {\n",
       "        text-align: right;\n",
       "    }\n",
       "</style>\n",
       "<table border=\"1\" class=\"dataframe\">\n",
       "  <thead>\n",
       "    <tr style=\"text-align: right;\">\n",
       "      <th></th>\n",
       "      <th>A_1</th>\n",
       "      <th>A_2</th>\n",
       "      <th>A_3</th>\n",
       "      <th>A_4</th>\n",
       "      <th>A_5</th>\n",
       "      <th>A_6</th>\n",
       "      <th>A_7</th>\n",
       "      <th>A_8</th>\n",
       "    </tr>\n",
       "  </thead>\n",
       "  <tbody>\n",
       "    <tr>\n",
       "      <th>0</th>\n",
       "      <td>9</td>\n",
       "      <td>9</td>\n",
       "      <td>9</td>\n",
       "      <td>8</td>\n",
       "      <td>9</td>\n",
       "      <td>7</td>\n",
       "      <td>9</td>\n",
       "      <td>9</td>\n",
       "    </tr>\n",
       "    <tr>\n",
       "      <th>1</th>\n",
       "      <td>9</td>\n",
       "      <td>8</td>\n",
       "      <td>9</td>\n",
       "      <td>9</td>\n",
       "      <td>9</td>\n",
       "      <td>7</td>\n",
       "      <td>8</td>\n",
       "      <td>8</td>\n",
       "    </tr>\n",
       "    <tr>\n",
       "      <th>2</th>\n",
       "      <td>8</td>\n",
       "      <td>9</td>\n",
       "      <td>9</td>\n",
       "      <td>8</td>\n",
       "      <td>9</td>\n",
       "      <td>9</td>\n",
       "      <td>9</td>\n",
       "      <td>9</td>\n",
       "    </tr>\n",
       "    <tr>\n",
       "      <th>3</th>\n",
       "      <td>6</td>\n",
       "      <td>4</td>\n",
       "      <td>5</td>\n",
       "      <td>2</td>\n",
       "      <td>9</td>\n",
       "      <td>7</td>\n",
       "      <td>7</td>\n",
       "      <td>6</td>\n",
       "    </tr>\n",
       "    <tr>\n",
       "      <th>4</th>\n",
       "      <td>7</td>\n",
       "      <td>8</td>\n",
       "      <td>8</td>\n",
       "      <td>7</td>\n",
       "      <td>9</td>\n",
       "      <td>8</td>\n",
       "      <td>6</td>\n",
       "      <td>7</td>\n",
       "    </tr>\n",
       "  </tbody>\n",
       "</table>\n",
       "</div>"
      ],
      "text/plain": [
       "   A_1  A_2  A_3  A_4  A_5  A_6  A_7  A_8\n",
       "0    9    9    9    8    9    7    9    9\n",
       "1    9    8    9    9    9    7    8    8\n",
       "2    8    9    9    8    9    9    9    9\n",
       "3    6    4    5    2    9    7    7    6\n",
       "4    7    8    8    7    9    8    6    7"
      ]
     },
     "execution_count": 21,
     "metadata": {},
     "output_type": "execute_result"
    }
   ],
   "source": [
    "sus_con_apoyo = pd.read_csv('Sus_con-apoyo.csv', delimiter=';')\n",
    "sus_con_apoyo"
   ]
  },
  {
   "cell_type": "code",
   "execution_count": 22,
   "metadata": {
    "scrolled": true
   },
   "outputs": [],
   "source": [
    "l = np.array(sus_con_apoyo).flatten().reshape(-1,1)\n",
    "scaler = preprocessing.MinMaxScaler(feature_range=(0,1))\n",
    "scaled_df_con = scaler.fit_transform(l)"
   ]
  },
  {
   "cell_type": "code",
   "execution_count": 35,
   "metadata": {
    "scrolled": true
   },
   "outputs": [
    {
     "data": {
      "text/plain": [
       "array([[9],\n",
       "       [9],\n",
       "       [9],\n",
       "       [8],\n",
       "       [9],\n",
       "       [7],\n",
       "       [9],\n",
       "       [9],\n",
       "       [9],\n",
       "       [8],\n",
       "       [9],\n",
       "       [9],\n",
       "       [9],\n",
       "       [7],\n",
       "       [8],\n",
       "       [8],\n",
       "       [8],\n",
       "       [9],\n",
       "       [9],\n",
       "       [8],\n",
       "       [9],\n",
       "       [9],\n",
       "       [9],\n",
       "       [9],\n",
       "       [6],\n",
       "       [4],\n",
       "       [5],\n",
       "       [2],\n",
       "       [9],\n",
       "       [7],\n",
       "       [7],\n",
       "       [6],\n",
       "       [7],\n",
       "       [8],\n",
       "       [8],\n",
       "       [7],\n",
       "       [9],\n",
       "       [8],\n",
       "       [6],\n",
       "       [7]])"
      ]
     },
     "execution_count": 35,
     "metadata": {},
     "output_type": "execute_result"
    }
   ],
   "source": [
    "l"
   ]
  },
  {
   "cell_type": "code",
   "execution_count": 37,
   "metadata": {},
   "outputs": [
    {
     "data": {
      "image/png": "[encoded data removed]",
      "text/plain": [
       "<Figure size 1080x576 with 2 Axes>"
      ]
     },
     "metadata": {
      "needs_background": "light"
     },
     "output_type": "display_data"
    }
   ],
   "source": [
    "f, axes = plt.subplots(1, 2, figsize=(15, 8))\n",
    "f.suptitle('Análisis de Frecuencia para simulación de perforación con acompañamiento', fontsize=16, y=0.065)\n",
    "\n",
    "sns.distplot(scaled_df_con, bins=10, axlabel='Calificación', hist=False, kde=True, ax=axes[0])\n",
    "axes[0].set(xlabel='Calificación', ylabel='Densidad')\n",
    "sns.distplot(scaled_df_con, bins=10, axlabel='Calificación', hist=True, kde=False, ax=axes[1])\n",
    "axes[1].set(xlabel='Calificación', ylabel='Numero de Apariciones')\n",
    "\n",
    "plt.xticks(range(0,10), ['0', '1', '2', '3', '4', '5', '6', '7', '8', '9']);\n",
    "plt.yticks(np.linspace(1,20,20), range(2,20))\n",
    "#plt.ylim(0, 20)\n",
    "#plt.xlim(-0.01,0.6)\n",
    "plt.savefig('figure2.png')"
   ]
  },
  {
   "cell_type": "code",
   "execution_count": 110,
   "metadata": {},
   "outputs": [
    {
     "data": {
      "image/png": "[encoded data removed]",
      "text/plain": [
       "<Figure size 1080x576 with 2 Axes>"
      ]
     },
     "metadata": {
      "needs_background": "light"
     },
     "output_type": "display_data"
    }
   ],
   "source": [
    "f, axes = plt.subplots(1, 2, figsize=(15, 8))\n",
    "f.suptitle('Análisis de Frecuencia para simulación de perforación con acompañamiento', fontsize=16, y=0.065)\n",
    "\n",
    "sns.distplot(scaled_df_sin, bins=10, axlabel='Calificación', hist=True, kde=False, ax=axes[0], color=\"#0504aa\")\n",
    "axes[0].set(xlabel='Calificación', ylabel='Densidad')\n",
    "axes[0].set_xticks(np.linspace(0,0.9,10));\n",
    "axes[0].set_xticklabels(['0', '1', '2', '3', '4', '5', '6', '7', '8', '9', '10'])\n",
    "axes[0].set_yticks(range(0,21), range(0,21))\n",
    "axes[0].set_xlim(0,1.001)\n",
    "\n",
    "axes[1].bar([0,1,2,3,4,5,6,7,8,9],[0,0,1,0,1,1,3,7,9,18], color='darkorange', width=1, align='edge')\n",
    "axes[1].set(xlabel='Calificación', ylabel='Numero de Apariciones')\n",
    "axes[1].set_xticks(range(0,10));\n",
    "axes[1].set_xticklabels(['0', '1', '2', '3', '4', '5', '6', '7', '8', '9', '10'])\n",
    "axes[1].set_yticks(range(0,21), range(0,21))\n",
    "axes[1].set_xlim(0,10)\n",
    "\n",
    "plt.savefig('figure2.png')"
   ]
  },
  {
   "cell_type": "code",
   "execution_count": 123,
   "metadata": {},
   "outputs": [
    {
     "data": {
      "image/png": "[encoded data removed]",
      "text/plain": [
       "<Figure size 576x576 with 1 Axes>"
      ]
     },
     "metadata": {
      "needs_background": "light"
     },
     "output_type": "display_data"
    }
   ],
   "source": [
    "f = plt.figure(figsize=(8,8))\n",
    "plt.bar([0,1,2,3,4,5,6,7,8,9],[0,0,1,0,1,1,3,7,9,18], color='royalblue', width=1, align='edge')\n",
    "plt.xlabel('Calificación')\n",
    "plt.ylabel('Numero de Apariciones')\n",
    "plt.title('Analisis de frecuencia para simulación de perforación con acompañamiento')\n",
    "plt.xticks(range(0,10), ['0', '1', '2', '3', '4', '5', '6', '7', '8', '9', '10'])\n",
    "plt.yticks(range(0,21))\n",
    "plt.xlim(0,10);"
   ]
  },
  {
   "cell_type": "code",
   "execution_count": null,
   "metadata": {},
   "outputs": [],
   "source": []
  },
  {
   "cell_type": "code",
   "execution_count": null,
   "metadata": {},
   "outputs": [],
   "source": []
  },
  {
   "cell_type": "code",
   "execution_count": null,
   "metadata": {},
   "outputs": [],
   "source": []
  }
 ],
 "metadata": {
  "kernelspec": {
   "display_name": "Python 3",
   "language": "python",
   "name": "python3"
  },
  "language_info": {
   "codemirror_mode": {
    "name": "ipython",
    "version": 3
   },
   "file_extension": ".py",
   "mimetype": "text/x-python",
   "name": "python",
   "nbconvert_exporter": "python",
   "pygments_lexer": "ipython3",
   "version": "3.7.3"
  }
 },
 "nbformat": 4,
 "nbformat_minor": 2
}
